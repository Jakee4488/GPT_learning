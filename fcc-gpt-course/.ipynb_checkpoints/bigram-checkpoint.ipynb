{
 "cells": [
  {
   "cell_type": "code",
   "execution_count": 6,
   "id": "664b3fbe",
   "metadata": {},
   "outputs": [],
   "source": [
    "import torch\n",
    "device='cuda' if torch.cuda.is_available() else'cpu'"
   ]
  },
  {
   "cell_type": "code",
   "execution_count": 8,
   "id": "1a4db420",
   "metadata": {
    "scrolled": true
   },
   "outputs": [
    {
     "ename": "FileNotFoundError",
     "evalue": "[Errno 2] No such file or directory: 'wizard-of-oz.txt'",
     "output_type": "error",
     "traceback": [
      "\u001b[1;31m---------------------------------------------------------------------------\u001b[0m",
      "\u001b[1;31mFileNotFoundError\u001b[0m                         Traceback (most recent call last)",
      "\u001b[1;32mc:\\Users\\jacob\\Desktop\\GPT_Projects\\GPT_learning\\fcc-gpt-course\\.ipynb_checkpoints\\bigram-checkpoint.ipynb Cell 2\u001b[0m line \u001b[0;36m1\n\u001b[1;32m----> <a href='vscode-notebook-cell:/c%3A/Users/jacob/Desktop/GPT_Projects/GPT_learning/fcc-gpt-course/.ipynb_checkpoints/bigram-checkpoint.ipynb#W1sZmlsZQ%3D%3D?line=0'>1</a>\u001b[0m \u001b[39mwith\u001b[39;00m \u001b[39mopen\u001b[39;49m(\u001b[39m'\u001b[39;49m\u001b[39mwizard-of-oz.txt\u001b[39;49m\u001b[39m'\u001b[39;49m,\u001b[39m'\u001b[39;49m\u001b[39mr\u001b[39;49m\u001b[39m'\u001b[39;49m,encoding\u001b[39m=\u001b[39;49m\u001b[39m'\u001b[39;49m\u001b[39mutf-8\u001b[39;49m\u001b[39m'\u001b[39;49m) \u001b[39mas\u001b[39;00m f:\n\u001b[0;32m      <a href='vscode-notebook-cell:/c%3A/Users/jacob/Desktop/GPT_Projects/GPT_learning/fcc-gpt-course/.ipynb_checkpoints/bigram-checkpoint.ipynb#W1sZmlsZQ%3D%3D?line=1'>2</a>\u001b[0m    text\u001b[39m=\u001b[39mf\u001b[39m.\u001b[39mread()\n\u001b[0;32m      <a href='vscode-notebook-cell:/c%3A/Users/jacob/Desktop/GPT_Projects/GPT_learning/fcc-gpt-course/.ipynb_checkpoints/bigram-checkpoint.ipynb#W1sZmlsZQ%3D%3D?line=2'>3</a>\u001b[0m    chars\u001b[39m=\u001b[39m\u001b[39msorted\u001b[39m(\u001b[39mset\u001b[39m(text))\n",
      "File \u001b[1;32mc:\\Users\\jacob\\Desktop\\GPT_Projects\\GPT_learning\\cuda\\Lib\\site-packages\\IPython\\core\\interactiveshell.py:286\u001b[0m, in \u001b[0;36m_modified_open\u001b[1;34m(file, *args, **kwargs)\u001b[0m\n\u001b[0;32m    279\u001b[0m \u001b[39mif\u001b[39;00m file \u001b[39min\u001b[39;00m {\u001b[39m0\u001b[39m, \u001b[39m1\u001b[39m, \u001b[39m2\u001b[39m}:\n\u001b[0;32m    280\u001b[0m     \u001b[39mraise\u001b[39;00m \u001b[39mValueError\u001b[39;00m(\n\u001b[0;32m    281\u001b[0m         \u001b[39mf\u001b[39m\u001b[39m\"\u001b[39m\u001b[39mIPython won\u001b[39m\u001b[39m'\u001b[39m\u001b[39mt let you open fd=\u001b[39m\u001b[39m{\u001b[39;00mfile\u001b[39m}\u001b[39;00m\u001b[39m by default \u001b[39m\u001b[39m\"\u001b[39m\n\u001b[0;32m    282\u001b[0m         \u001b[39m\"\u001b[39m\u001b[39mas it is likely to crash IPython. If you know what you are doing, \u001b[39m\u001b[39m\"\u001b[39m\n\u001b[0;32m    283\u001b[0m         \u001b[39m\"\u001b[39m\u001b[39myou can use builtins\u001b[39m\u001b[39m'\u001b[39m\u001b[39m open.\u001b[39m\u001b[39m\"\u001b[39m\n\u001b[0;32m    284\u001b[0m     )\n\u001b[1;32m--> 286\u001b[0m \u001b[39mreturn\u001b[39;00m io_open(file, \u001b[39m*\u001b[39;49margs, \u001b[39m*\u001b[39;49m\u001b[39m*\u001b[39;49mkwargs)\n",
      "\u001b[1;31mFileNotFoundError\u001b[0m: [Errno 2] No such file or directory: 'wizard-of-oz.txt'"
     ]
    }
   ],
   "source": [
    "with open('wizard-of-oz.txt','r',encoding='utf-8') as f:\n",
    "   text=f.read()\n",
    "   chars=sorted(set(text))\n",
    "   print(chars)\n",
    "   print(len(chars))\n"
   ]
  },
  {
   "cell_type": "code",
   "execution_count": 9,
   "id": "7bd34aeb",
   "metadata": {},
   "outputs": [
    {
     "ename": "NameError",
     "evalue": "name 'chars' is not defined",
     "output_type": "error",
     "traceback": [
      "\u001b[1;31m---------------------------------------------------------------------------\u001b[0m",
      "\u001b[1;31mNameError\u001b[0m                                 Traceback (most recent call last)",
      "\u001b[1;32mc:\\Users\\jacob\\Desktop\\GPT_Projects\\GPT_learning\\fcc-gpt-course\\.ipynb_checkpoints\\bigram-checkpoint.ipynb Cell 3\u001b[0m line \u001b[0;36m1\n\u001b[1;32m----> <a href='vscode-notebook-cell:/c%3A/Users/jacob/Desktop/GPT_Projects/GPT_learning/fcc-gpt-course/.ipynb_checkpoints/bigram-checkpoint.ipynb#W2sZmlsZQ%3D%3D?line=0'>1</a>\u001b[0m string_to_int \u001b[39m=\u001b[39m{ ch:i \u001b[39mfor\u001b[39;00m i,ch \u001b[39min\u001b[39;00m \u001b[39menumerate\u001b[39m(chars)}\n\u001b[0;32m      <a href='vscode-notebook-cell:/c%3A/Users/jacob/Desktop/GPT_Projects/GPT_learning/fcc-gpt-course/.ipynb_checkpoints/bigram-checkpoint.ipynb#W2sZmlsZQ%3D%3D?line=1'>2</a>\u001b[0m int_to_string \u001b[39m=\u001b[39m{ i:ch \u001b[39mfor\u001b[39;00m i,ch \u001b[39min\u001b[39;00m \u001b[39menumerate\u001b[39m(chars)}\n\u001b[0;32m      <a href='vscode-notebook-cell:/c%3A/Users/jacob/Desktop/GPT_Projects/GPT_learning/fcc-gpt-course/.ipynb_checkpoints/bigram-checkpoint.ipynb#W2sZmlsZQ%3D%3D?line=2'>3</a>\u001b[0m encode \u001b[39m=\u001b[39m \u001b[39mlambda\u001b[39;00m s:[string_to_int[c]\u001b[39mfor\u001b[39;00m c \u001b[39min\u001b[39;00m s]\n",
      "\u001b[1;31mNameError\u001b[0m: name 'chars' is not defined"
     ]
    }
   ],
   "source": [
    "string_to_int ={ ch:i for i,ch in enumerate(chars)}\n",
    "int_to_string ={ i:ch for i,ch in enumerate(chars)}\n",
    "encode = lambda s:[string_to_int[c]for c in s]\n",
    "decode = lambda l: ''.join([int_to_string[i] for i in l])"
   ]
  },
  {
   "cell_type": "markdown",
   "id": "e7108d76",
   "metadata": {},
   "source": [
    "data =torch.tensor(encode(text),dtype=torch.long)\n",
    "print(data)"
   ]
  },
  {
   "cell_type": "code",
   "execution_count": null,
   "id": "8dd0d45a",
   "metadata": {},
   "outputs": [
    {
     "name": "stdout",
     "output_type": "stream",
     "text": [
      "hello\n"
     ]
    }
   ],
   "source": [
    "encoded_string=encode('hello')\n",
    "print(decode(encoded_string))"
   ]
  },
  {
   "cell_type": "code",
   "execution_count": null,
   "id": "9c152091",
   "metadata": {},
   "outputs": [
    {
     "name": "stdout",
     "output_type": "stream",
     "text": [
      "tensor([91, 48, 65, 62,  1, 44, 75, 72, 67, 62, 60, 77,  1, 35, 78, 77, 62, 71,\n",
      "        59, 62, 75, 64,  1, 62, 30, 72, 72, 68,  1, 72, 63,  1, 32, 72, 75, 72,\n",
      "        77, 65, 82,  1, 58, 71, 61,  1, 77, 65, 62,  1, 51, 66, 83, 58, 75, 61,\n",
      "         1, 66, 71,  1, 43, 83,  0,  1,  1,  1,  1,  0, 48, 65, 66, 76,  1, 62,\n",
      "        59, 72, 72, 68,  1, 66, 76,  1, 63, 72, 75,  1, 77, 65, 62,  1, 78, 76,\n",
      "        62,  1, 72, 63,  1, 58, 71, 82, 72, 71])\n"
     ]
    }
   ],
   "source": [
    "data =torch.tensor(encode(text),dtype=torch.long)\n",
    "print(data[:100])"
   ]
  },
  {
   "cell_type": "code",
   "execution_count": null,
   "id": "db290701",
   "metadata": {},
   "outputs": [],
   "source": [
    "n=int(.8*len(data))\n",
    "train_data=data[:n]\n",
    "test_data=data[n:]"
   ]
  },
  {
   "cell_type": "code",
   "execution_count": null,
   "id": "d03b50c2",
   "metadata": {},
   "outputs": [
    {
     "name": "stdout",
     "output_type": "stream",
     "text": [
      "when input is tensor([91]) target is  tensor(48)\n",
      "when input is tensor([91, 48]) target is  tensor(65)\n",
      "when input is tensor([91, 48, 65]) target is  tensor(62)\n",
      "when input is tensor([91, 48, 65, 62]) target is  tensor(1)\n",
      "when input is tensor([91, 48, 65, 62,  1]) target is  tensor(44)\n",
      "when input is tensor([91, 48, 65, 62,  1, 44]) target is  tensor(75)\n",
      "when input is tensor([91, 48, 65, 62,  1, 44, 75]) target is  tensor(72)\n",
      "when input is tensor([91, 48, 65, 62,  1, 44, 75, 72]) target is  tensor(67)\n"
     ]
    }
   ],
   "source": [
    "block_size=8\n",
    "x= train_data[:block_size]\n",
    "y=train_data[1:block_size+1]\n",
    "for t in range(block_size):\n",
    "    context=x[:t+1]\n",
    "    target=y[t]\n",
    "    print('when input is', context ,'target is ',target)\n"
   ]
  },
  {
   "cell_type": "code",
   "execution_count": null,
   "id": "d05070ca",
   "metadata": {},
   "outputs": [],
   "source": []
  }
 ],
 "metadata": {
  "kernelspec": {
   "display_name": "cuda",
   "language": "python",
   "name": "python3"
  },
  "language_info": {
   "codemirror_mode": {
    "name": "ipython",
    "version": 3
   },
   "file_extension": ".py",
   "mimetype": "text/x-python",
   "name": "python",
   "nbconvert_exporter": "python",
   "pygments_lexer": "ipython3",
   "version": "3.11.5"
  }
 },
 "nbformat": 4,
 "nbformat_minor": 5
}
