{
 "cells": [
  {
   "cell_type": "code",
   "execution_count": 1,
   "id": "664b3fbe",
   "metadata": {},
   "outputs": [
    {
     "name": "stdout",
     "output_type": "stream",
     "text": [
      "cuda\n"
     ]
    }
   ],
   "source": [
    "import torch\n",
    "import torch.nn as nn\n",
    "from torch.nn import functional as F\n",
    "device = 'cuda' if torch.cuda.is_available() else 'cpu'\n",
    "print(device)\n",
    "block_size = 8\n",
    "batch_size = 4\n",
    "max_iters = 10000\n",
    "# eval_interval = 2500\n",
    "learning_rate = 3e-4\n",
    "eval_iters = 250"
   ]
  },
  {
   "cell_type": "code",
   "execution_count": 2,
   "id": "1a4db420",
   "metadata": {
    "scrolled": true
   },
   "outputs": [
    {
     "name": "stdout",
     "output_type": "stream",
     "text": [
      "['\\n', ' ', '!', '\"', '#', '$', '%', '&', \"'\", '(', ')', '*', ',', '-', '.', '/', '0', '1', '2', '3', '4', '5', '6', '7', '8', '9', ':', ';', '?', 'A', 'B', 'C', 'D', 'E', 'F', 'G', 'H', 'I', 'J', 'K', 'L', 'M', 'N', 'O', 'P', 'Q', 'R', 'S', 'T', 'U', 'V', 'W', 'X', 'Y', 'Z', '[', ']', '_', 'a', 'b', 'c', 'd', 'e', 'f', 'g', 'h', 'i', 'j', 'k', 'l', 'm', 'n', 'o', 'p', 'q', 'r', 's', 't', 'u', 'v', 'w', 'x', 'y', 'z', '—', '‘', '’', '“', '”', '•', '™', '\\ufeff']\n"
     ]
    }
   ],
   "source": [
    "with open('wizard-of-oz.txt', 'r', encoding='utf-8') as f:\n",
    "    text = f.read()\n",
    "chars = sorted(set(text))\n",
    "print(chars)\n",
    "vocab_size = len(chars)\n"
   ]
  },
  {
   "cell_type": "code",
   "execution_count": 3,
   "id": "7bd34aeb",
   "metadata": {},
   "outputs": [],
   "source": [
    "string_to_int ={ ch:i for i,ch in enumerate(chars)}\n",
    "int_to_string ={ i:ch for i,ch in enumerate(chars)}\n",
    "encode = lambda s:[string_to_int[c]for c in s]\n",
    "decode = lambda l: ''.join([int_to_string[i] for i in l])"
   ]
  },
  {
   "cell_type": "markdown",
   "id": "e7108d76",
   "metadata": {},
   "source": [
    "data =torch.tensor(encode(text),dtype=torch.long)\n",
    "print(data)"
   ]
  },
  {
   "cell_type": "code",
   "execution_count": 4,
   "id": "8dd0d45a",
   "metadata": {},
   "outputs": [
    {
     "name": "stdout",
     "output_type": "stream",
     "text": [
      "hello\n"
     ]
    }
   ],
   "source": [
    "encoded_string=encode('hello')\n",
    "print(decode(encoded_string))"
   ]
  },
  {
   "cell_type": "code",
   "execution_count": 5,
   "id": "9c152091",
   "metadata": {},
   "outputs": [
    {
     "name": "stdout",
     "output_type": "stream",
     "text": [
      "tensor([91, 48, 65, 62,  1, 44, 75, 72, 67, 62, 60, 77,  1, 35, 78, 77, 62, 71,\n",
      "        59, 62, 75, 64,  1, 62, 30, 72, 72, 68,  1, 72, 63,  1, 32, 72, 75, 72,\n",
      "        77, 65, 82,  1, 58, 71, 61,  1, 77, 65, 62,  1, 51, 66, 83, 58, 75, 61,\n",
      "         1, 66, 71,  1, 43, 83,  0,  1,  1,  1,  1,  0, 48, 65, 66, 76,  1, 62,\n",
      "        59, 72, 72, 68,  1, 66, 76,  1, 63, 72, 75,  1, 77, 65, 62,  1, 78, 76,\n",
      "        62,  1, 72, 63,  1, 58, 71, 82, 72, 71])\n"
     ]
    }
   ],
   "source": [
    "data =torch.tensor(encode(text),dtype=torch.long)\n",
    "print(data[:100])"
   ]
  },
  {
   "cell_type": "code",
   "execution_count": 6,
   "id": "db290701",
   "metadata": {},
   "outputs": [],
   "source": [
    "n=int(.8*len(data))\n",
    "train_data=data[:n]\n",
    "test_data=data[n:]"
   ]
  },
  {
   "cell_type": "code",
   "execution_count": 7,
   "id": "5f22d90b",
   "metadata": {},
   "outputs": [
    {
     "name": "stdout",
     "output_type": "stream",
     "text": [
      "inputs:\n",
      "tensor([[82, 14,  0,  3, 37, 77,  8, 76],\n",
      "        [61,  1, 77, 65, 62,  1, 80, 58],\n",
      "        [60, 72, 71, 76, 77, 75, 78, 60],\n",
      "        [80, 72,  1, 75, 62, 58, 76, 72]], device='cuda:0')\n",
      "targets:\n",
      "tensor([[14,  0,  3, 37, 77,  8, 76,  1],\n",
      "        [ 1, 77, 65, 62,  1, 80, 58, 71],\n",
      "        [72, 71, 76, 77, 75, 78, 60, 77],\n",
      "        [72,  1, 75, 62, 58, 76, 72, 71]], device='cuda:0')\n"
     ]
    }
   ],
   "source": [
    "n = int(0.8*len(data))\n",
    "train_data = data[:n]\n",
    "val_data = data[n:]\n",
    "\n",
    "def get_batch(split):\n",
    "    data = train_data if split == 'train' else val_data\n",
    "    ix = torch.randint(len(data) - block_size, (batch_size,))\n",
    "    x = torch.stack([data[i:i+block_size] for i in ix])\n",
    "    y = torch.stack([data[i+1:i+block_size+1] for i in ix])\n",
    "    x, y = x.to(device), y.to(device)\n",
    "    return x, y\n",
    "\n",
    "x, y = get_batch('train')\n",
    "print('inputs:')\n",
    "# print(x.shape)\n",
    "print(x)\n",
    "print('targets:')\n",
    "print(y)"
   ]
  },
  {
   "cell_type": "code",
   "execution_count": 8,
   "id": "d03b50c2",
   "metadata": {},
   "outputs": [
    {
     "name": "stdout",
     "output_type": "stream",
     "text": [
      "when input is tensor([91]) target is  tensor(48)\n",
      "when input is tensor([91, 48]) target is  tensor(65)\n",
      "when input is tensor([91, 48, 65]) target is  tensor(62)\n",
      "when input is tensor([91, 48, 65, 62]) target is  tensor(1)\n",
      "when input is tensor([91, 48, 65, 62,  1]) target is  tensor(44)\n",
      "when input is tensor([91, 48, 65, 62,  1, 44]) target is  tensor(75)\n",
      "when input is tensor([91, 48, 65, 62,  1, 44, 75]) target is  tensor(72)\n",
      "when input is tensor([91, 48, 65, 62,  1, 44, 75, 72]) target is  tensor(67)\n"
     ]
    }
   ],
   "source": [
    "\n",
    "x= train_data[:block_size]\n",
    "y=train_data[1:block_size+1]\n",
    "for t in range(block_size):\n",
    "    context=x[:t+1]\n",
    "    target=y[t]\n",
    "    print('when input is', context ,'target is ',target)\n"
   ]
  },
  {
   "cell_type": "code",
   "execution_count": 9,
   "id": "200d9aa3",
   "metadata": {},
   "outputs": [],
   "source": [
    "@torch.no_grad()\n",
    "def estimate_loss():\n",
    "    out = {}\n",
    "    model.eval()\n",
    "    for split in ['train', 'val']:\n",
    "        losses = torch.zeros(eval_iters)\n",
    "        for k in range(eval_iters):\n",
    "            X, Y = get_batch(split)\n",
    "            logits, loss = model(X, Y)\n",
    "            losses[k] = loss.item()\n",
    "        out[split] = losses.mean()\n",
    "    model.train()\n",
    "    return out"
   ]
  },
  {
   "cell_type": "code",
   "execution_count": 10,
   "id": "d05070ca",
   "metadata": {},
   "outputs": [
    {
     "name": "stdout",
     "output_type": "stream",
     "text": [
      "\n",
      "2jQ-hAOd'jr&]%—z’#Uw6\n",
      " jV/Y1KIfDiLWiW—84W”‘xZ1MVGM;v!kYyZz“r,xVrpyo﻿G#oCXRkiHGu$tAOCeP‘)Cym)n[8OUSM_W\n",
      "cwW%:8$:PB9™q(1&Q‘O!P$%DYW*QL‘6dG.bN38‘17JZZgUv0Cz84﻿[KKf]x]:rN•RIsnPMC]JOlxePBS0d6\"is[xyX•qGRBs9$UUk FQH4j‘#’‘﻿L*Bkn EKqQ﻿b-XRguDZc—kx]nA’keFyl\"[)NvNQ]™TIDuQ*b\"3h’sCJXR(d%GeuPL.p[Y.i;JuD\n",
      "nRmd!”xV5”,K\"noCl﻿,17V4\n",
      "En. g•XtRn]?VhNo_0GQLi!jJvaM/*M;mMf—0UUGun\")Nri;—szqWT”OEFNr?j’HvJ3.2E\n",
      "0OFwG%t $7ZqQO,4\"Jo’A0dqWK﻿EYXk(NrOFLWNrVG'PBqQC]“$z]Yz3#)Fr﻿:-;/ZqWw6T7Cl)#QM_i8bXGH&liuy(_“24\n",
      ");$Lk/q)C-%& ,lJz;/\n"
     ]
    }
   ],
   "source": [
    "class BigramLanguageModel(nn.Module):\n",
    "    def __init__(self, vocab_size):\n",
    "        super().__init__()\n",
    "        self.token_embedding_table = nn.Embedding(vocab_size, vocab_size)\n",
    "        \n",
    "    def forward(self, index, targets=None):\n",
    "        logits = self.token_embedding_table(index)\n",
    "        \n",
    "        \n",
    "        if targets is None:\n",
    "            loss = None\n",
    "        else:\n",
    "            B, T, C = logits.shape\n",
    "            logits = logits.view(B*T, C)\n",
    "            targets = targets.view(B*T)\n",
    "            loss = F.cross_entropy(logits, targets)\n",
    "        \n",
    "        return logits, loss\n",
    "    \n",
    "    def generate(self, index, max_new_tokens):\n",
    "        # index is (B, T) array of indices in the current context\n",
    "        for _ in range(max_new_tokens):\n",
    "            # get the predictions\n",
    "            logits, loss = self.forward(index)\n",
    "            # focus only on the last time step\n",
    "            logits = logits[:, -1, :] # becomes (B, C)\n",
    "            # apply softmax to get probabilities\n",
    "            probs = F.softmax(logits, dim=-1) # (B, C)\n",
    "            # sample from the distribution\n",
    "            index_next = torch.multinomial(probs, num_samples=1) # (B, 1)\n",
    "            # append sampled index to the running sequence\n",
    "            index = torch.cat((index, index_next), dim=1) # (B, T+1)\n",
    "        return index\n",
    "\n",
    "model = BigramLanguageModel(vocab_size)\n",
    "m = model.to(device)\n",
    "\n",
    "context = torch.zeros((1,1), dtype=torch.long, device=device)\n",
    "generated_chars = decode(m.generate(context, max_new_tokens=500)[0].tolist())\n",
    "print(generated_chars)"
   ]
  },
  {
   "cell_type": "code",
   "execution_count": 11,
   "id": "d15a5645",
   "metadata": {},
   "outputs": [
    {
     "name": "stdout",
     "output_type": "stream",
     "text": [
      "step: 0, train loss: 4.942, val loss: 4.944\n",
      "step: 250, train loss: 4.879, val loss: 4.888\n",
      "step: 500, train loss: 4.813, val loss: 4.844\n",
      "step: 750, train loss: 4.754, val loss: 4.766\n",
      "step: 1000, train loss: 4.686, val loss: 4.716\n",
      "step: 1250, train loss: 4.650, val loss: 4.660\n",
      "step: 1500, train loss: 4.557, val loss: 4.571\n",
      "step: 1750, train loss: 4.507, val loss: 4.543\n",
      "step: 2000, train loss: 4.441, val loss: 4.463\n",
      "step: 2250, train loss: 4.363, val loss: 4.419\n",
      "step: 2500, train loss: 4.330, val loss: 4.375\n",
      "step: 2750, train loss: 4.272, val loss: 4.319\n",
      "step: 3000, train loss: 4.217, val loss: 4.273\n",
      "step: 3250, train loss: 4.173, val loss: 4.228\n",
      "step: 3500, train loss: 4.142, val loss: 4.153\n",
      "step: 3750, train loss: 4.054, val loss: 4.106\n",
      "step: 4000, train loss: 4.008, val loss: 4.077\n",
      "step: 4250, train loss: 3.982, val loss: 4.037\n",
      "step: 4500, train loss: 3.932, val loss: 3.979\n",
      "step: 4750, train loss: 3.880, val loss: 3.947\n",
      "step: 5000, train loss: 3.833, val loss: 3.907\n",
      "step: 5250, train loss: 3.786, val loss: 3.859\n",
      "step: 5500, train loss: 3.719, val loss: 3.809\n",
      "step: 5750, train loss: 3.709, val loss: 3.816\n",
      "step: 6000, train loss: 3.673, val loss: 3.761\n",
      "step: 6250, train loss: 3.628, val loss: 3.688\n",
      "step: 6500, train loss: 3.607, val loss: 3.672\n",
      "step: 6750, train loss: 3.549, val loss: 3.619\n",
      "step: 7000, train loss: 3.533, val loss: 3.604\n",
      "step: 7250, train loss: 3.473, val loss: 3.566\n",
      "step: 7500, train loss: 3.437, val loss: 3.536\n",
      "step: 7750, train loss: 3.431, val loss: 3.519\n",
      "step: 8000, train loss: 3.380, val loss: 3.500\n",
      "step: 8250, train loss: 3.338, val loss: 3.460\n",
      "step: 8500, train loss: 3.311, val loss: 3.433\n",
      "step: 8750, train loss: 3.294, val loss: 3.412\n",
      "step: 9000, train loss: 3.268, val loss: 3.389\n",
      "step: 9250, train loss: 3.223, val loss: 3.363\n",
      "step: 9500, train loss: 3.199, val loss: 3.323\n",
      "step: 9750, train loss: 3.192, val loss: 3.322\n",
      "3.3716330528259277\n"
     ]
    }
   ],
   "source": [
    "# create a PyTorch optimizer\n",
    "optimizer = torch.optim.AdamW(model.parameters(), lr=learning_rate)\n",
    "\n",
    "for iter in range(max_iters):\n",
    "    if iter % eval_iters == 0:\n",
    "        losses = estimate_loss()\n",
    "        print(f\"step: {iter}, train loss: {losses['train']:.3f}, val loss: {losses['val']:.3f}\")\n",
    "\n",
    "    # sample a batch of data\n",
    "    xb, yb = get_batch('train')\n",
    "\n",
    "    # evaluate the loss\n",
    "    logits, loss = model.forward(xb, yb)\n",
    "    optimizer.zero_grad(set_to_none=True)\n",
    "    loss.backward()\n",
    "    optimizer.step()\n",
    "print(loss.item())"
   ]
  }
 ],
 "metadata": {
  "kernelspec": {
   "display_name": "cuda",
   "language": "python",
   "name": "python3"
  },
  "language_info": {
   "codemirror_mode": {
    "name": "ipython",
    "version": 3
   },
   "file_extension": ".py",
   "mimetype": "text/x-python",
   "name": "python",
   "nbconvert_exporter": "python",
   "pygments_lexer": "ipython3",
   "version": "3.11.5"
  }
 },
 "nbformat": 4,
 "nbformat_minor": 5
}
